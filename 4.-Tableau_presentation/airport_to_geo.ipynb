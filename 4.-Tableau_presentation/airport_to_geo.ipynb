{
 "cells": [
  {
   "cell_type": "markdown",
   "metadata": {},
   "source": [
    "# Cleaning birdstrike dataset\n",
    "Because our dataset only contains the names of airports, we need to look up the coordinates a different way. Unfortunately we also don't have the ICAO or IATA codes, which would make it easy. Since the names might have a different notation we use Google Maps, which is a safe bet for accurate info."
   ]
  },
  {
   "cell_type": "markdown",
   "metadata": {},
   "source": [
    "## Initialize\n",
    "First we import the necessary libraries. Then we load our birdstrike dataset and see what it looks like."
   ]
  },
  {
   "cell_type": "code",
   "execution_count": 1,
   "metadata": {},
   "outputs": [],
   "source": [
    "import requests\n",
    "import json\n",
    "import urllib.parse\n",
    "\n",
    "import pandas as pd\n",
    "from getpass import getpass"
   ]
  },
  {
   "cell_type": "code",
   "execution_count": 2,
   "metadata": {},
   "outputs": [
    {
     "data": {
      "text/html": [
       "<div>\n",
       "<style scoped>\n",
       "    .dataframe tbody tr th:only-of-type {\n",
       "        vertical-align: middle;\n",
       "    }\n",
       "\n",
       "    .dataframe tbody tr th {\n",
       "        vertical-align: top;\n",
       "    }\n",
       "\n",
       "    .dataframe thead th {\n",
       "        text-align: right;\n",
       "    }\n",
       "</style>\n",
       "<table border=\"1\" class=\"dataframe\">\n",
       "  <thead>\n",
       "    <tr style=\"text-align: right;\">\n",
       "      <th></th>\n",
       "      <th>Airport: Name</th>\n",
       "      <th>Altitude bin</th>\n",
       "      <th>Aircraft: Make/Model</th>\n",
       "      <th>Effect: Impact to flight</th>\n",
       "      <th>FlightDate</th>\n",
       "      <th>Record ID</th>\n",
       "      <th>Effect: Indicated Damage</th>\n",
       "      <th>Aircraft: Number of engines?</th>\n",
       "      <th>Aircraft: Airline/Operator</th>\n",
       "      <th>Origin State</th>\n",
       "      <th>...</th>\n",
       "      <th>When: Time (HHMM)</th>\n",
       "      <th>When: Time of day</th>\n",
       "      <th>Pilot warned of birds or wildlife?</th>\n",
       "      <th>Cost: Aircraft time out of service (hours)</th>\n",
       "      <th>Cost: Other (inflation adj)</th>\n",
       "      <th>Cost: Repair (inflation adj)</th>\n",
       "      <th>Cost: Total $</th>\n",
       "      <th>Miles from airport</th>\n",
       "      <th>Feet above ground</th>\n",
       "      <th>Speed (IAS) in knots</th>\n",
       "    </tr>\n",
       "  </thead>\n",
       "  <tbody>\n",
       "    <tr>\n",
       "      <th>0</th>\n",
       "      <td>DETROIT METRO WAYNE COUNTY ARPT</td>\n",
       "      <td>&lt; 1000 ft</td>\n",
       "      <td>A-319</td>\n",
       "      <td>NaN</td>\n",
       "      <td>1/1/2005 0:00</td>\n",
       "      <td>227413</td>\n",
       "      <td>No damage</td>\n",
       "      <td>2</td>\n",
       "      <td>NORTHWEST AIRLINES</td>\n",
       "      <td>Michigan</td>\n",
       "      <td>...</td>\n",
       "      <td>NaN</td>\n",
       "      <td>NaN</td>\n",
       "      <td>NaN</td>\n",
       "      <td>NaN</td>\n",
       "      <td>0</td>\n",
       "      <td>0</td>\n",
       "      <td>0</td>\n",
       "      <td>NaN</td>\n",
       "      <td>400</td>\n",
       "      <td>NaN</td>\n",
       "    </tr>\n",
       "    <tr>\n",
       "      <th>1</th>\n",
       "      <td>DANE COUNTY REGIONAL ARPT-TRUAX FLD</td>\n",
       "      <td>&lt; 1000 ft</td>\n",
       "      <td>A-320</td>\n",
       "      <td>NaN</td>\n",
       "      <td>1/1/2005 0:00</td>\n",
       "      <td>226578</td>\n",
       "      <td>No damage</td>\n",
       "      <td>2</td>\n",
       "      <td>NORTHWEST AIRLINES</td>\n",
       "      <td>Wisconsin</td>\n",
       "      <td>...</td>\n",
       "      <td>NaN</td>\n",
       "      <td>NaN</td>\n",
       "      <td>NaN</td>\n",
       "      <td>NaN</td>\n",
       "      <td>0</td>\n",
       "      <td>0</td>\n",
       "      <td>0</td>\n",
       "      <td>0</td>\n",
       "      <td>0</td>\n",
       "      <td>NaN</td>\n",
       "    </tr>\n",
       "    <tr>\n",
       "      <th>2</th>\n",
       "      <td>HOGUE ARPT</td>\n",
       "      <td>&lt; 1000 ft</td>\n",
       "      <td>PA-46 MALIBU</td>\n",
       "      <td>NaN</td>\n",
       "      <td>1/1/2005 0:00</td>\n",
       "      <td>268383</td>\n",
       "      <td>Caused damage</td>\n",
       "      <td>1</td>\n",
       "      <td>PRIVATELY OWNED</td>\n",
       "      <td>Tennessee</td>\n",
       "      <td>...</td>\n",
       "      <td>NaN</td>\n",
       "      <td>Day</td>\n",
       "      <td>NaN</td>\n",
       "      <td>NaN</td>\n",
       "      <td>0</td>\n",
       "      <td>0</td>\n",
       "      <td>0</td>\n",
       "      <td>0</td>\n",
       "      <td>0</td>\n",
       "      <td>20</td>\n",
       "    </tr>\n",
       "    <tr>\n",
       "      <th>3</th>\n",
       "      <td>SACRAMENTO INTL</td>\n",
       "      <td>&lt; 1000 ft</td>\n",
       "      <td>B-737-300</td>\n",
       "      <td>None</td>\n",
       "      <td>1/1/2005 0:00</td>\n",
       "      <td>229514</td>\n",
       "      <td>Caused damage</td>\n",
       "      <td>2</td>\n",
       "      <td>SOUTHWEST AIRLINES</td>\n",
       "      <td>California</td>\n",
       "      <td>...</td>\n",
       "      <td>2140.0</td>\n",
       "      <td>Night</td>\n",
       "      <td>Y</td>\n",
       "      <td>NaN</td>\n",
       "      <td>0</td>\n",
       "      <td>117,135</td>\n",
       "      <td>117,135</td>\n",
       "      <td>NaN</td>\n",
       "      <td>500</td>\n",
       "      <td>142</td>\n",
       "    </tr>\n",
       "    <tr>\n",
       "      <th>4</th>\n",
       "      <td>GUARULHOS INTL</td>\n",
       "      <td>&lt; 1000 ft</td>\n",
       "      <td>B-767-300</td>\n",
       "      <td>NaN</td>\n",
       "      <td>1/1/2005 0:00</td>\n",
       "      <td>225661</td>\n",
       "      <td>No damage</td>\n",
       "      <td>2</td>\n",
       "      <td>UNITED AIRLINES</td>\n",
       "      <td>NaN</td>\n",
       "      <td>...</td>\n",
       "      <td>NaN</td>\n",
       "      <td>NaN</td>\n",
       "      <td>NaN</td>\n",
       "      <td>NaN</td>\n",
       "      <td>0</td>\n",
       "      <td>0</td>\n",
       "      <td>0</td>\n",
       "      <td>0</td>\n",
       "      <td>0</td>\n",
       "      <td>NaN</td>\n",
       "    </tr>\n",
       "  </tbody>\n",
       "</table>\n",
       "<p>5 rows × 23 columns</p>\n",
       "</div>"
      ],
      "text/plain": [
       "                         Airport: Name Altitude bin Aircraft: Make/Model  \\\n",
       "0      DETROIT METRO WAYNE COUNTY ARPT    < 1000 ft                A-319   \n",
       "1  DANE COUNTY REGIONAL ARPT-TRUAX FLD    < 1000 ft                A-320   \n",
       "2                           HOGUE ARPT    < 1000 ft         PA-46 MALIBU   \n",
       "3                      SACRAMENTO INTL    < 1000 ft            B-737-300   \n",
       "4                       GUARULHOS INTL    < 1000 ft            B-767-300   \n",
       "\n",
       "  Effect: Impact to flight     FlightDate  Record ID Effect: Indicated Damage  \\\n",
       "0                      NaN  1/1/2005 0:00     227413                No damage   \n",
       "1                      NaN  1/1/2005 0:00     226578                No damage   \n",
       "2                      NaN  1/1/2005 0:00     268383            Caused damage   \n",
       "3                     None  1/1/2005 0:00     229514            Caused damage   \n",
       "4                      NaN  1/1/2005 0:00     225661                No damage   \n",
       "\n",
       "  Aircraft: Number of engines? Aircraft: Airline/Operator Origin State  ...  \\\n",
       "0                            2         NORTHWEST AIRLINES     Michigan  ...   \n",
       "1                            2         NORTHWEST AIRLINES    Wisconsin  ...   \n",
       "2                            1            PRIVATELY OWNED    Tennessee  ...   \n",
       "3                            2         SOUTHWEST AIRLINES   California  ...   \n",
       "4                            2            UNITED AIRLINES          NaN  ...   \n",
       "\n",
       "  When: Time (HHMM) When: Time of day Pilot warned of birds or wildlife?  \\\n",
       "0               NaN               NaN                                NaN   \n",
       "1               NaN               NaN                                NaN   \n",
       "2               NaN               Day                                NaN   \n",
       "3            2140.0             Night                                  Y   \n",
       "4               NaN               NaN                                NaN   \n",
       "\n",
       "   Cost: Aircraft time out of service (hours) Cost: Other (inflation adj)  \\\n",
       "0                                         NaN                           0   \n",
       "1                                         NaN                           0   \n",
       "2                                         NaN                           0   \n",
       "3                                         NaN                           0   \n",
       "4                                         NaN                           0   \n",
       "\n",
       "  Cost: Repair (inflation adj) Cost: Total $ Miles from airport  \\\n",
       "0                            0             0                NaN   \n",
       "1                            0             0                  0   \n",
       "2                            0             0                  0   \n",
       "3                      117,135       117,135                NaN   \n",
       "4                            0             0                  0   \n",
       "\n",
       "  Feet above ground Speed (IAS) in knots  \n",
       "0               400                  NaN  \n",
       "1                 0                  NaN  \n",
       "2                 0                   20  \n",
       "3               500                  142  \n",
       "4                 0                  NaN  \n",
       "\n",
       "[5 rows x 23 columns]"
      ]
     },
     "execution_count": 2,
     "metadata": {},
     "output_type": "execute_result"
    }
   ],
   "source": [
    "df = pd.read_csv(\"Bird Strikes Test.csv\", low_memory=False)\n",
    "df.head()"
   ]
  },
  {
   "cell_type": "code",
   "execution_count": 3,
   "metadata": {},
   "outputs": [
    {
     "data": {
      "text/plain": [
       "(65610, 23)"
      ]
     },
     "execution_count": 3,
     "metadata": {},
     "output_type": "execute_result"
    }
   ],
   "source": [
    "df.shape"
   ]
  },
  {
   "cell_type": "code",
   "execution_count": 4,
   "metadata": {
    "scrolled": true
   },
   "outputs": [
    {
     "data": {
      "text/plain": [
       "1448"
      ]
     },
     "execution_count": 4,
     "metadata": {},
     "output_type": "execute_result"
    }
   ],
   "source": [
    "# How many different airports are in the dataset?\n",
    "df[\"Airport: Name\"].nunique()"
   ]
  },
  {
   "cell_type": "markdown",
   "metadata": {},
   "source": [
    "## Get coordinates data from Google Maps API\n",
    "To get geographic information about our airports we need to get the data from the Google Maps API."
   ]
  },
  {
   "cell_type": "code",
   "execution_count": 5,
   "metadata": {},
   "outputs": [
    {
     "name": "stdout",
     "output_type": "stream",
     "text": [
      "········\n"
     ]
    }
   ],
   "source": [
    "# Set as global so not asked every time the func is called.\n",
    "key = getpass()\n",
    "url = f\"https://maps.googleapis.com/maps/api/geocode/json?key={key}&address=\""
   ]
  },
  {
   "cell_type": "code",
   "execution_count": null,
   "metadata": {},
   "outputs": [],
   "source": [
    "reserved = \" ! * ' ( ) ; : @ & = + $ , / ? % # [ ]\"\n",
    "name = \"we&rd\"\n",
    "for letter in \n",
    "if name in reserved:\n",
    "    "
   ]
  },
  {
   "cell_type": "code",
   "execution_count": 13,
   "metadata": {},
   "outputs": [],
   "source": [
    "def get_coords(name):\n",
    "    \"\"\"Returns coordinates after query Google Maps API.\"\"\"\n",
    "    \n",
    "    # Parse name in case it has special chars\n",
    "    name = urllib.parse.quote_plus(str(name).encode('utf-8'))\n",
    "    resp = requests.get(url + name)\n",
    "    r = resp.json()\n",
    "    \n",
    "    # If something went wrong we want to return a 0,0 tuple.\n",
    "    if resp.status_code != 200 or not r[\"results\"]:\n",
    "        return (0, 0)\n",
    "    return tuple([val for val in r[\"results\"][0][\"geometry\"][\"location\"].values()])"
   ]
  },
  {
   "cell_type": "code",
   "execution_count": 7,
   "metadata": {},
   "outputs": [
    {
     "name": "stdout",
     "output_type": "stream",
     "text": [
      "35.6337237 -85.38951039999999\n"
     ]
    }
   ],
   "source": [
    "# Let's test if it works\n",
    "lat, lng = get_coords(\"HOGUE ARPT\")\n",
    "print(f\"{lat} {lng}\")"
   ]
  },
  {
   "cell_type": "code",
   "execution_count": 14,
   "metadata": {},
   "outputs": [],
   "source": [
    "# Create a dictionary with unique airports with their coordinates\n",
    "apt_dict = {apt: get_coords(apt) \n",
    "            for apt in df[\"Airport: Name\"].drop_duplicates()}\n",
    "\n",
    "# Then transform it to a list with those values\n",
    "transposed = [[k, lat, long] \n",
    "              for k, (lat, long) in apt_dict.items()]"
   ]
  },
  {
   "cell_type": "markdown",
   "metadata": {},
   "source": [
    "## Add coordinates to data\n",
    "Now we can look up the coordinates for all airports and then add it to our dataframe."
   ]
  },
  {
   "cell_type": "code",
   "execution_count": 15,
   "metadata": {},
   "outputs": [],
   "source": [
    "# Feed the created list of airport data to a df\n",
    "apts = pd.DataFrame(transposed, \n",
    "                    columns=[\"Airport: Name\", \"lat\", \"long\"])"
   ]
  },
  {
   "cell_type": "code",
   "execution_count": 17,
   "metadata": {},
   "outputs": [],
   "source": [
    "# Merge the coordinates data with the initial dataframe\n",
    "df = pd.merge(df, apts, on=\"Airport: Name\", how=\"left\")"
   ]
  },
  {
   "cell_type": "code",
   "execution_count": 20,
   "metadata": {},
   "outputs": [
    {
     "data": {
      "text/plain": [
       "(27, 25)"
      ]
     },
     "execution_count": 20,
     "metadata": {},
     "output_type": "execute_result"
    }
   ],
   "source": [
    "# Now check how many did not get any data.\n",
    "df[df[\"lat\"] ==  0].shape"
   ]
  },
  {
   "cell_type": "markdown",
   "metadata": {},
   "source": [
    "## Export data\n",
    "Finally we save the data to a csv that we can import in Tableau."
   ]
  },
  {
   "cell_type": "code",
   "execution_count": 21,
   "metadata": {},
   "outputs": [],
   "source": [
    "df.to_csv(\"clean_birdstrike_data.csv\")"
   ]
  },
  {
   "cell_type": "code",
   "execution_count": 22,
   "metadata": {},
   "outputs": [],
   "source": [
    "# Also save the airport data so we can load later if we need to\n",
    "apts.to_csv(\"airport_geo.csv\")"
   ]
  },
  {
   "cell_type": "code",
   "execution_count": null,
   "metadata": {},
   "outputs": [],
   "source": []
  }
 ],
 "metadata": {
  "kernelspec": {
   "display_name": "Python 3",
   "language": "python",
   "name": "python3"
  },
  "language_info": {
   "codemirror_mode": {
    "name": "ipython",
    "version": 3
   },
   "file_extension": ".py",
   "mimetype": "text/x-python",
   "name": "python",
   "nbconvert_exporter": "python",
   "pygments_lexer": "ipython3",
   "version": "3.8.5"
  }
 },
 "nbformat": 4,
 "nbformat_minor": 4
}
